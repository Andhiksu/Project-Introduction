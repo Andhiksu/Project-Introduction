{
 "cells": [
  {
   "cell_type": "markdown",
   "id": "5151dace",
   "metadata": {},
   "source": [
    "# Daegu Apartment Analytics"
   ]
  },
  {
   "cell_type": "markdown",
   "id": "d5b9c9c8",
   "metadata": {},
   "source": [
    "### Created By :\n",
    "\n",
    "**Nama : Andhik Surya Saputra**\n",
    "\n",
    "**Kelas : Data Science Kelas B**\n",
    "\n",
    "**Tugas : Capstone Project Modul III**"
   ]
  },
  {
   "cell_type": "markdown",
   "id": "5d2cf541",
   "metadata": {},
   "source": [
    "## Business Problem Understanding"
   ]
  },
  {
   "cell_type": "markdown",
   "id": "719a1ad2",
   "metadata": {},
   "source": [
    "**Context**  \n",
    "\n",
    "**Daegu**, kota terbesar keempat di Korea Selatan, memiliki pasar properti yang berkembang pesat, terutama untuk apartemen, yang menjadi pilihan utama bagi penduduk urban. Pemilik apartemen, baik individu maupun perusahaan properti, sering kali kesulitan menentukan harga jual yang kompetitif. Harga yang terlalu tinggi dapat mengurangi minat pembeli, sedangkan harga yang terlalu rendah dapat menyebabkan kerugian finansial. Faktor seperti lokasi, ukuran apartemen, tahun pembangunan, dan fasilitas di sekitar memengaruhi harga, namun tidak semua pemilik memiliki keahlian untuk menganalisis faktor-faktor ini secara mendalam."
   ]
  },
  {
   "cell_type": "markdown",
   "id": "798e0f70",
   "metadata": {},
   "source": [
    "**Problem Statement :**\n",
    "\n",
    "Salah satu tantangan utama dalam pasar properti adalah menentukan harga jual apartemen yang optimal untuk memaksimalkan profit pemilik sekaligus tetap kompetitif di pasar. Pemilik apartemen sering kali menetapkan harga berdasarkan intuisi atau perbandingan sederhana, yang dapat menyebabkan ketidaksesuaian dengan nilai pasar. Hal ini berdampak pada waktu penjualan yang lebih lama atau kerugian finansial.\n",
    "\n",
    "**Goals :**\n",
    "\n",
    "Tujuan proyek ini adalah membangun **model machine learning** yang dapat **memprediksi harga jual apartemen di Daegu** berdasarkan fitur seperti ukuran, lokasi, dan fasilitas. Model ini akan membantu pemilik apartemen menetapkan harga yang kompetitif, meningkatkan efisiensi penjualan, dan meminimalkan kerugian. Bagi perusahaan properti, model ini dapat diintegrasikan ke platform mereka untuk memberikan rekomendasi harga otomatis, meningkatkan jumlah listing dan pendapatan dari komisi penjualan.\n",
    "\n",
    "**Analytic Approach :**\n",
    "\n",
    "Kami akan menganalisis data untuk mengidentifikasi pola dari fitur-fitur yang memengaruhi harga apartemen, seperti ukuran, kedekatan dengan stasiun subway, dan usia bangunan. Selanjutnya, kami akan membangun model regresi untuk memprediksi harga jual apartemen baru, yang akan membantu pemilik menetapkan harga yang sesuai dengan kondisi pasar."
   ]
  },
  {
   "cell_type": "markdown",
   "id": "24a63d5c",
   "metadata": {},
   "source": [
    "**Metric Evaluation**\n",
    "\n",
    "Model regresi akan dievaluasi menggunakan metrik antara:\n",
    "- Root Mean Squared Error **(RMSE)**: Mengukur rata-rata akar kuadrat error, sensitif terhadap kesalahan besar, relevan untuk meminimalkan kerugian finansial akibat prediksi yang jauh meleset.\n",
    "- Mean Absolute Error **(MAE)**: Mengukur rata-rata kesalahan absolut, memberikan gambaran kesalahan tipikal dalam satuan Won (mata uang Korea Selatan).\n",
    "- Mean Absolute Percentage Error **(MAPE)**: Mengukur persentase kesalahan rata-rata, memudahkan interpretasi akurasi relatif terhadap harga aktual.\n",
    "- R-squared **(R²)**: Koefisien determinasi, menunjukkan seberapa baik model menjelaskan variabilitas data.\n",
    "\n",
    "Semakin kecil nilai RMSE, MAE, dan MAPE, semakin akurat model dalam memprediksi harga. Selain itu, **R-squared** akan digunakan untuk mengevaluasi seberapa baik model menjelaskan variabilitas harga, terutama jika model linear digunakan.\n"
   ]
  },
  {
   "cell_type": "markdown",
   "id": "7565e5b3",
   "metadata": {},
   "source": [
    "## Data Understanding"
   ]
  },
  {
   "cell_type": "markdown",
   "id": "4ebfba1a",
   "metadata": {},
   "source": [
    "Dataset source : [di sini](https://drive.google.com/drive/folders/1fmkyfjrzuJNaH02sXhp5vUxqum9bH0Fx)\n",
    "\n",
    "- Dataset berisi data transaksi apartemen di Daegu, mencakup informasi tentang karakteristik apartemen dan harga jual.\n",
    "- Setiap baris merepresentasikan satu transaksi apartemen."
   ]
  },
  {
   "cell_type": "markdown",
   "id": "cb196568",
   "metadata": {},
   "source": [
    "#### **Attributes Information**\n",
    "\n",
    "| **Attribute** | **Data Type** | **Description** |\n",
    "| --- | --- | --- |\n",
    "| HallwayType | Object | Tipe lorong apartemen (terraced, mixed, corridor) |\n",
    "| TimeToSubway | Object | Waktu tempuh ke stasiun subway terdekat (0-5min, 5-10min, dll.) |\n",
    "| SubwayStation | Object | Nama stasiun subway terdekat |\n",
    "| N_FacilitiesNearBy(ETC) | Float | Jumlah fasilitas umum di sekitar |\n",
    "| N_FacilitiesNearBy(PublicOffice) | Float | Jumlah kantor publik di sekitar |\n",
    "| N_SchoolNearBy(University) | Float | Jumlah universitas di sekitar |\n",
    "| N_Parkinglot(Basement) | Float | Jumlah tempat parkir di basement |\n",
    "| YearBuilt | Integer | Tahun pembangunan apartemen |\n",
    "| N_FacilitiesInApt | Float | Jumlah fasilitas dalam apartemen |\n",
    "| Size(sqf) | Float | Ukuran apartemen dalam square feet |\n",
    "| SalePrice | Integer | Harga jual apartemen dalam Won (target) |"
   ]
  },
  {
   "cell_type": "code",
   "execution_count": 1,
   "id": "1f7b6248",
   "metadata": {},
   "outputs": [],
   "source": [
    "# Library\n",
    "\n",
    "import pandas as pd\n",
    "import numpy as np\n",
    "\n",
    "# Visualization\n",
    "import matplotlib.pyplot as plt\n",
    "import seaborn as sns\n",
    "import missingno\n",
    "from IPython.display import display\n",
    "\n",
    "# Feature Engineering\n",
    "from sklearn.feature_selection import RFE\n",
    "from sklearn.preprocessing import StandardScaler, OneHotEncoder\n",
    "from sklearn.compose import ColumnTransformer\n",
    "from sklearn.pipeline import Pipeline\n",
    "\n",
    "# Model Selection\n",
    "from sklearn.model_selection import train_test_split, GridSearchCV\n",
    "from sklearn.ensemble import RandomForestRegressor\n",
    "from sklearn.metrics import mean_absolute_percentage_error, mean_absolute_error, mean_squared_error, r2_score\n",
    "\n",
    "# Imbalance Dataset\n",
    "from imblearn.pipeline import Pipeline\n",
    "from imblearn.over_sampling import RandomOverSampler\n",
    "\n",
    "# Ignore Warning\n",
    "import sys\n",
    "import warnings\n",
    "if not sys.warnoptions:\n",
    "    warnings.simplefilter(\"ignore\")\n",
    "\n",
    "# Set max columns\n",
    "pd.set_option('display.max_columns', None)"
   ]
  },
  {
   "cell_type": "code",
   "execution_count": 2,
   "id": "bd10ea8b",
   "metadata": {},
   "outputs": [
    {
     "name": "stdout",
     "output_type": "stream",
     "text": [
      "Lima baris pertama dari dataset:\n"
     ]
    },
    {
     "data": {
      "text/html": [
       "<div>\n",
       "<style scoped>\n",
       "    .dataframe tbody tr th:only-of-type {\n",
       "        vertical-align: middle;\n",
       "    }\n",
       "\n",
       "    .dataframe tbody tr th {\n",
       "        vertical-align: top;\n",
       "    }\n",
       "\n",
       "    .dataframe thead th {\n",
       "        text-align: right;\n",
       "    }\n",
       "</style>\n",
       "<table border=\"1\" class=\"dataframe\">\n",
       "  <thead>\n",
       "    <tr style=\"text-align: right;\">\n",
       "      <th></th>\n",
       "      <th>HallwayType</th>\n",
       "      <th>TimeToSubway</th>\n",
       "      <th>SubwayStation</th>\n",
       "      <th>N_FacilitiesNearBy(ETC)</th>\n",
       "      <th>N_FacilitiesNearBy(PublicOffice)</th>\n",
       "      <th>N_SchoolNearBy(University)</th>\n",
       "      <th>N_Parkinglot(Basement)</th>\n",
       "      <th>YearBuilt</th>\n",
       "      <th>N_FacilitiesInApt</th>\n",
       "      <th>Size(sqf)</th>\n",
       "      <th>SalePrice</th>\n",
       "    </tr>\n",
       "  </thead>\n",
       "  <tbody>\n",
       "    <tr>\n",
       "      <th>0</th>\n",
       "      <td>terraced</td>\n",
       "      <td>0-5min</td>\n",
       "      <td>Kyungbuk_uni_hospital</td>\n",
       "      <td>0.0</td>\n",
       "      <td>3.0</td>\n",
       "      <td>2.0</td>\n",
       "      <td>1270.0</td>\n",
       "      <td>2007</td>\n",
       "      <td>10</td>\n",
       "      <td>1387</td>\n",
       "      <td>346017</td>\n",
       "    </tr>\n",
       "    <tr>\n",
       "      <th>1</th>\n",
       "      <td>terraced</td>\n",
       "      <td>10min~15min</td>\n",
       "      <td>Kyungbuk_uni_hospital</td>\n",
       "      <td>1.0</td>\n",
       "      <td>5.0</td>\n",
       "      <td>1.0</td>\n",
       "      <td>0.0</td>\n",
       "      <td>1986</td>\n",
       "      <td>4</td>\n",
       "      <td>914</td>\n",
       "      <td>150442</td>\n",
       "    </tr>\n",
       "    <tr>\n",
       "      <th>2</th>\n",
       "      <td>mixed</td>\n",
       "      <td>15min~20min</td>\n",
       "      <td>Chil-sung-market</td>\n",
       "      <td>1.0</td>\n",
       "      <td>7.0</td>\n",
       "      <td>3.0</td>\n",
       "      <td>56.0</td>\n",
       "      <td>1997</td>\n",
       "      <td>5</td>\n",
       "      <td>558</td>\n",
       "      <td>61946</td>\n",
       "    </tr>\n",
       "    <tr>\n",
       "      <th>3</th>\n",
       "      <td>mixed</td>\n",
       "      <td>5min~10min</td>\n",
       "      <td>Bangoge</td>\n",
       "      <td>5.0</td>\n",
       "      <td>5.0</td>\n",
       "      <td>4.0</td>\n",
       "      <td>798.0</td>\n",
       "      <td>2005</td>\n",
       "      <td>7</td>\n",
       "      <td>914</td>\n",
       "      <td>165486</td>\n",
       "    </tr>\n",
       "    <tr>\n",
       "      <th>4</th>\n",
       "      <td>terraced</td>\n",
       "      <td>0-5min</td>\n",
       "      <td>Sin-nam</td>\n",
       "      <td>0.0</td>\n",
       "      <td>1.0</td>\n",
       "      <td>2.0</td>\n",
       "      <td>536.0</td>\n",
       "      <td>2006</td>\n",
       "      <td>5</td>\n",
       "      <td>1743</td>\n",
       "      <td>311504</td>\n",
       "    </tr>\n",
       "  </tbody>\n",
       "</table>\n",
       "</div>"
      ],
      "text/plain": [
       "  HallwayType TimeToSubway          SubwayStation  N_FacilitiesNearBy(ETC)  \\\n",
       "0    terraced       0-5min  Kyungbuk_uni_hospital                      0.0   \n",
       "1    terraced  10min~15min  Kyungbuk_uni_hospital                      1.0   \n",
       "2       mixed  15min~20min       Chil-sung-market                      1.0   \n",
       "3       mixed   5min~10min                Bangoge                      5.0   \n",
       "4    terraced       0-5min                Sin-nam                      0.0   \n",
       "\n",
       "   N_FacilitiesNearBy(PublicOffice)  N_SchoolNearBy(University)  \\\n",
       "0                               3.0                         2.0   \n",
       "1                               5.0                         1.0   \n",
       "2                               7.0                         3.0   \n",
       "3                               5.0                         4.0   \n",
       "4                               1.0                         2.0   \n",
       "\n",
       "   N_Parkinglot(Basement)  YearBuilt  N_FacilitiesInApt  Size(sqf)  SalePrice  \n",
       "0                  1270.0       2007                 10       1387     346017  \n",
       "1                     0.0       1986                  4        914     150442  \n",
       "2                    56.0       1997                  5        558      61946  \n",
       "3                   798.0       2005                  7        914     165486  \n",
       "4                   536.0       2006                  5       1743     311504  "
      ]
     },
     "metadata": {},
     "output_type": "display_data"
    }
   ],
   "source": [
    "# Load dataset\n",
    "df = pd.read_csv('data_daegu_apartment.csv')\n",
    "print(\"Lima baris pertama dari dataset:\")\n",
    "display(df.head())"
   ]
  },
  {
   "cell_type": "code",
   "execution_count": 3,
   "id": "4cd95515",
   "metadata": {},
   "outputs": [
    {
     "name": "stdout",
     "output_type": "stream",
     "text": [
      "<class 'pandas.core.frame.DataFrame'>\n",
      "RangeIndex: 4123 entries, 0 to 4122\n",
      "Data columns (total 11 columns):\n",
      " #   Column                            Non-Null Count  Dtype  \n",
      "---  ------                            --------------  -----  \n",
      " 0   HallwayType                       4123 non-null   object \n",
      " 1   TimeToSubway                      4123 non-null   object \n",
      " 2   SubwayStation                     4123 non-null   object \n",
      " 3   N_FacilitiesNearBy(ETC)           4123 non-null   float64\n",
      " 4   N_FacilitiesNearBy(PublicOffice)  4123 non-null   float64\n",
      " 5   N_SchoolNearBy(University)        4123 non-null   float64\n",
      " 6   N_Parkinglot(Basement)            4123 non-null   float64\n",
      " 7   YearBuilt                         4123 non-null   int64  \n",
      " 8   N_FacilitiesInApt                 4123 non-null   int64  \n",
      " 9   Size(sqf)                         4123 non-null   int64  \n",
      " 10  SalePrice                         4123 non-null   int64  \n",
      "dtypes: float64(4), int64(4), object(3)\n",
      "memory usage: 354.4+ KB\n"
     ]
    }
   ],
   "source": [
    "df.info()"
   ]
  },
  {
   "cell_type": "markdown",
   "id": "770d3fb3",
   "metadata": {},
   "source": [
    "## Data Cleaning\n",
    "\n",
    "Ada data yang hilang/kosong dibeberapa fitur/kolom, kemudian fitur/kolom enrolle_id tidak berguna untuk analisis dan modeling, maka kita akan memperbaiki semua datanya dan membuatnya menjadi siap pakai untuk melakukan analisa terhadap masalahnya dan juga pembuatan model machine learningnya."
   ]
  },
  {
   "cell_type": "code",
   "execution_count": 4,
   "id": "a190f9b1",
   "metadata": {},
   "outputs": [
    {
     "name": "stdout",
     "output_type": "stream",
     "text": [
      "Statistik Deskriptif:\n",
      "        N_FacilitiesNearBy(ETC)  N_FacilitiesNearBy(PublicOffice)  \\\n",
      "count              4123.000000                       4123.000000   \n",
      "mean                  1.930876                          4.135338   \n",
      "std                   2.198832                          1.802640   \n",
      "min                   0.000000                          0.000000   \n",
      "25%                   0.000000                          3.000000   \n",
      "50%                   1.000000                          5.000000   \n",
      "75%                   5.000000                          5.000000   \n",
      "max                   5.000000                          7.000000   \n",
      "\n",
      "       N_SchoolNearBy(University)  N_Parkinglot(Basement)    YearBuilt  \\\n",
      "count                 4123.000000             4123.000000  4123.000000   \n",
      "mean                     2.746301              568.979141  2002.999757   \n",
      "std                      1.496610              410.372742     8.905768   \n",
      "min                      0.000000                0.000000  1978.000000   \n",
      "25%                      2.000000              184.000000  1993.000000   \n",
      "50%                      2.000000              536.000000  2006.000000   \n",
      "75%                      4.000000              798.000000  2008.000000   \n",
      "max                      5.000000             1321.000000  2015.000000   \n",
      "\n",
      "       N_FacilitiesInApt    Size(sqf)      SalePrice  \n",
      "count        4123.000000  4123.000000    4123.000000  \n",
      "mean            5.817851   954.630851  221767.926995  \n",
      "std             2.340507   383.805648  106739.839945  \n",
      "min             1.000000   135.000000   32743.000000  \n",
      "25%             4.000000   644.000000  144752.000000  \n",
      "50%             5.000000   910.000000  209734.000000  \n",
      "75%             7.000000  1149.000000  291150.000000  \n",
      "max            10.000000  2337.000000  585840.000000  \n",
      "Rentang SalePrice: 32743 585840\n",
      "Nilai unik TimeToSubway: ['0-5min' '10min~15min' '15min~20min' '5min~10min' 'no_bus_stop_nearby']\n",
      "Nilai unik HallwayType: ['terraced' 'mixed' 'corridor']\n"
     ]
    }
   ],
   "source": [
    "print(\"Statistik Deskriptif:\\n\", df.describe())\n",
    "print(\"Rentang SalePrice:\", df['SalePrice'].min(), df['SalePrice'].max())\n",
    "print(\"Nilai unik TimeToSubway:\", df['TimeToSubway'].unique())\n",
    "print(\"Nilai unik HallwayType:\", df['HallwayType'].unique())"
   ]
  },
  {
   "cell_type": "code",
   "execution_count": 5,
   "id": "433b41a8",
   "metadata": {},
   "outputs": [
    {
     "name": "stdout",
     "output_type": "stream",
     "text": [
      "Nilai hilang sebelum pembersihan:\n",
      " HallwayType                         0\n",
      "TimeToSubway                        0\n",
      "SubwayStation                       0\n",
      "N_FacilitiesNearBy(ETC)             0\n",
      "N_FacilitiesNearBy(PublicOffice)    0\n",
      "N_SchoolNearBy(University)          0\n",
      "N_Parkinglot(Basement)              0\n",
      "YearBuilt                           0\n",
      "N_FacilitiesInApt                   0\n",
      "Size(sqf)                           0\n",
      "SalePrice                           0\n",
      "dtype: int64\n",
      "Jumlah duplikat setelah pembersihan: 0\n",
      "Harga jual tidak valid: 0\n"
     ]
    }
   ],
   "source": [
    "# 3. Pembersihan Data\n",
    "print(\"Nilai hilang sebelum pembersihan:\\n\", df.isnull().sum())\n",
    "df = df.drop_duplicates()\n",
    "print(\"Jumlah duplikat setelah pembersihan:\", df.duplicated().sum())\n",
    "print(\"Harga jual tidak valid:\", (df['SalePrice'] <= 0).sum())"
   ]
  },
  {
   "cell_type": "code",
   "execution_count": 6,
   "id": "dabb6a7c",
   "metadata": {},
   "outputs": [
    {
     "name": "stdout",
     "output_type": "stream",
     "text": [
      "Jumlah data setelah menghapus outlier: 2673\n"
     ]
    }
   ],
   "source": [
    "# Optimasi: Tangani outlier\n",
    "df = df[df['SalePrice'] < df['SalePrice'].quantile(0.99)]\n",
    "print(\"Jumlah data setelah menghapus outlier:\", len(df))"
   ]
  },
  {
   "cell_type": "code",
   "execution_count": 7,
   "id": "63cc86dd",
   "metadata": {},
   "outputs": [
    {
     "name": "stdout",
     "output_type": "stream",
     "text": [
      "Nilai hilang setelah pembersihan:\n",
      " HallwayType                         0\n",
      "TimeToSubway                        0\n",
      "SubwayStation                       0\n",
      "N_FacilitiesNearBy(ETC)             0\n",
      "N_FacilitiesNearBy(PublicOffice)    0\n",
      "N_SchoolNearBy(University)          0\n",
      "N_Parkinglot(Basement)              0\n",
      "YearBuilt                           0\n",
      "N_FacilitiesInApt                   0\n",
      "Size(sqf)                           0\n",
      "SalePrice                           0\n",
      "dtype: int64\n"
     ]
    }
   ],
   "source": [
    "# Periksa nilai hilang setelah pembersihan\n",
    "print(\"Nilai hilang setelah pembersihan:\\n\", df.isnull().sum())"
   ]
  },
  {
   "cell_type": "markdown",
   "id": "74645df0",
   "metadata": {},
   "source": [
    "## Feature Engineering"
   ]
  },
  {
   "cell_type": "markdown",
   "id": "9159104c",
   "metadata": {},
   "source": [
    "Proses membuat atau mengubah fitur dalam dataset untuk meningkatkan performa model ML yang lebih informatif dan mudah diproses."
   ]
  },
  {
   "cell_type": "code",
   "execution_count": 8,
   "id": "c398853c",
   "metadata": {},
   "outputs": [],
   "source": [
    "df['Age'] = 2025 - df['YearBuilt']"
   ]
  },
  {
   "cell_type": "markdown",
   "id": "e8fcfe64",
   "metadata": {},
   "source": [
    "- Membuat kolom baru Age yang menghitung usia apartemen dengan mengurangkan YearBuilt (tahun pembangunan) dari tahun saat ini (diasumsikan 2025). Jika YearBuilt\n",
    "- Kolom Age berisi nilai numerik (integer) yang mewakili usia apartemen. Rentang nilai tergantung pada YearBuilt (misalnya, jika YearBuilt dari 1970 hingga 2020, maka Age dari 5 hingga 55 tahun).\n",
    "\n",
    "Contoh:\n",
    "\n",
    "YearBuilt: [2000, 2010, 1990]\n",
    "\n",
    "→ Age: [25, 15, 35]"
   ]
  },
  {
   "cell_type": "code",
   "execution_count": 9,
   "id": "d337acf9",
   "metadata": {},
   "outputs": [],
   "source": [
    "time_to_subway_map = {'0-5min': 1, '5min~10min': 2, '10min~15min': 3, '15min~20min': 4, 'no_bus_stop_nearby': 5}"
   ]
  },
  {
   "cell_type": "markdown",
   "id": "7ede09c0",
   "metadata": {},
   "source": [
    "Mendefinisikan kamus (`time_to_subway_map`) yang memetakan kategori tekstual di kolom `TimeToSubway` ke nilai numerik ordinal. Pemetaan ini mengasumsikan kedekatan dengan subway memengaruhi harga (lebih dekat = lebih mahal).\n",
    "\n",
    "Katergori:\n",
    "- `0-5min` → 1 (paling dekat dengan subway).\n",
    "- `5min~10min` → 2.\n",
    "- `10min~15min` → 3.\n",
    "- `15min~20min` → 4.\n",
    "- `no_bus_stop_nearby` → 5 (paling jauh).\n",
    "\n",
    "Ini digunakan untuk mengubah kolom TimeToSubway menjadi numerik di langkah berikutnya.\n",
    "\n",
    "Contoh: \n",
    "\n",
    "TimeToSubway: ['0-5min', 'no_bus_stop_nearby']\n",
    "\n",
    "→ SubwayDistance: [1, 5]"
   ]
  },
  {
   "cell_type": "code",
   "execution_count": 10,
   "id": "3a96cd8c",
   "metadata": {},
   "outputs": [
    {
     "name": "stdout",
     "output_type": "stream",
     "text": [
      "Nilai unik SubwayDistance: [1 3 4 2 5]\n"
     ]
    }
   ],
   "source": [
    "df['SubwayDistance'] = df['TimeToSubway'].map(time_to_subway_map).fillna(5).astype(int)\n",
    "print(\"Nilai unik SubwayDistance:\", df['SubwayDistance'].unique())"
   ]
  },
  {
   "cell_type": "markdown",
   "id": "f129ee8f",
   "metadata": {},
   "source": [
    "- Membuat kolom baru `SubwayDistance` dengan mengubah nilai di `TimeToSubway` menggunakan `time_to_subway_map`. \n",
    "- Kolom `SubwayDistance` berisi nilai integer dari 1 hingga 5, mewakili kedekatan dengan stasiun subway.\n",
    "- Nilai tak terduga (jika ada) menjadi 5, memastikan tidak ada nilai hilang.\n",
    "\n",
    "Contoh:\n",
    "\n",
    "TimeToSubway: ['0-5min', '5min~10min', 'unknown', NaN]\n",
    "\n",
    "→ SubwayDistance: [1, 2, 5, 5]"
   ]
  },
  {
   "cell_type": "code",
   "execution_count": 11,
   "id": "fd182aff",
   "metadata": {},
   "outputs": [],
   "source": [
    "df['LogSalePrice'] = np.log1p(df['SalePrice'])"
   ]
  },
  {
   "cell_type": "markdown",
   "id": "211427a4",
   "metadata": {},
   "source": [
    "- Membuat kolom baru `LogSalePrice` dengan menerapkan transformasi logaritma natural (basis e) pada `SalePrice` menggunakan **np.log1p**.\n",
    "- **np.log1p(x) = log(1 + x)**, digunakan untuk menangani nilai non-negatif (termasuk 0, meskipun `SalePrice` > 0 dalam kasus ini) dan transformasi ini mengurangi skewness distribusi `SalePrice`.\n",
    "- Distribusi `LogSalePrice` lebih mendekati normal dibandingkan `SalePrice`, yang biasanya miring ke kanan (banyak harga rendah, sedikit harga tinggi).\n",
    "\n",
    "Contoh:\n",
    "\n",
    "SalePrice: [100000, 200000, 500000]\n",
    "\n",
    "→ LogSalePrice: [11.512925, 12.206073, 13.122363]"
   ]
  },
  {
   "cell_type": "code",
   "execution_count": 12,
   "id": "a0499608",
   "metadata": {},
   "outputs": [],
   "source": [
    "df['Size_Facilities'] = df['Size(sqf)'] * df['N_FacilitiesInApt']"
   ]
  },
  {
   "cell_type": "markdown",
   "id": "6564070e",
   "metadata": {},
   "source": [
    "- Membuat kolom baru `Size_Facilities` dengan mengalikan **Size(sqf)** (ukuran apartemen dalam square feet) dan `N_FacilitiesInApt` (jumlah fasilitas dalam apartemen).\n",
    "- Fitur ini menangkap efek interaksi: apartemen besar dengan banyak fasilitas cenderung lebih mahal.\n",
    "\n",
    "Contoh:\n",
    "\n",
    "Size(sqf): [500, 1000]\n",
    "\n",
    "N_FacilitiesInApt: [3, 5]\n",
    "\n",
    "→ Size_Facilities: [1500, 5000]"
   ]
  },
  {
   "cell_type": "code",
   "execution_count": 13,
   "id": "7f184185",
   "metadata": {},
   "outputs": [
    {
     "name": "stdout",
     "output_type": "stream",
     "text": [
      "Nilai unik HallwayType setelah penanganan: ['terraced' 'mixed' 'corridor']\n"
     ]
    }
   ],
   "source": [
    "# Pastikan HallwayType tidak memiliki nilai hilang\n",
    "df['HallwayType'] = df['HallwayType'].fillna('unknown')\n",
    "print(\"Nilai unik HallwayType setelah penanganan:\", df['HallwayType'].unique())"
   ]
  },
  {
   "cell_type": "markdown",
   "id": "143ecb80",
   "metadata": {},
   "source": [
    "- Mengisi nilai hilang (NaN) di kolom HallwayType dengan string 'unknown'. Jadi, ini memastikan OneHotEncoder dapat memproses kolom tanpa error.\n",
    "- HallwayType adalah fitur kategorikal (misalnya, terraced, mixed, corridor).\n",
    "\n",
    "Contoh:\n",
    "\n",
    "HallwayType: ['terraced', NaN, 'corridor']\n",
    "\n",
    "→ HallwayType: ['terraced', 'unknown', 'corridor']"
   ]
  },
  {
   "cell_type": "markdown",
   "id": "ef8f12d0",
   "metadata": {},
   "source": [
    "## Feature Selection\n",
    "\n",
    "Memilih fitur yang paling relevan untuk digunakan dalam model ML guna meningkatkan akurasi dan mengurangi kompleksitas"
   ]
  },
  {
   "cell_type": "code",
   "execution_count": 14,
   "id": "ffa71595",
   "metadata": {},
   "outputs": [],
   "source": [
    "selected_features = ['Size(sqf)', 'Age', 'N_Parkinglot(Basement)', 'N_FacilitiesInApt', 'SubwayDistance', 'HallwayType', 'Size_Facilities']\n",
    "X = df[selected_features]\n",
    "y = df['LogSalePrice']\n",
    "y_original = df['SalePrice']"
   ]
  },
  {
   "cell_type": "markdown",
   "id": "e4e9a5e3",
   "metadata": {},
   "source": [
    "`selected_features` atau pemilihan fitur untuk model:\n",
    "- `Size(sqf)`: Ukuran apartemen dalam square feet (numerik) adalah faktor utama harga (lebih besar = lebih mahal).\n",
    "- `Age`: Usia apartemen (numerik, dari 2025 - YearBuilt). Apartemen tua cenderung lebih murah karena depresiasi.\n",
    "- `N_Parkinglot`(Basement): Parkir basement menambah nilai properti, terutama di kota seperti Daegu.\n",
    "- `N_FacilitiesInApt`: Fasilitas dalam apartemen (misalnya, gym, keamanan) meningkatkan harga.\n",
    "- `SubwayDistance`: Kedekatan dengan subway adalah nilai tambah utama.\n",
    "- `HallwayType`: Tipe koridor memengaruhi daya tarik dan harga (misalnya, terraced lebih mahal).\n",
    "- `Size_Facilities`: Interaksi ukuran dan fasilitas (Size(sqf) * N_FacilitiesInApt, numerik). Interaksi ukuran dan fasilitas menangkap efek premium apartemen besar dengan fasilitas lengkap.\n",
    "\n",
    "`X`, `y`, `y_original`: Data input (`X`), target log (`y`), dan target asli (`y_original`) disiapkan. Menunjukkan fitur seperti `Size(sqf)` dan `Size_Facilities` sangat prediktif, validasi pilihan fitur."
   ]
  },
  {
   "cell_type": "code",
   "execution_count": 15,
   "id": "ecf62f81",
   "metadata": {},
   "outputs": [
    {
     "name": "stdout",
     "output_type": "stream",
     "text": [
      "Korelasi dengan LogSalePrice:\n",
      " LogSalePrice                        1.000000\n",
      "SalePrice                           0.954139\n",
      "Size_Facilities                     0.717444\n",
      "Size(sqf)                           0.643248\n",
      "N_FacilitiesInApt                   0.547635\n",
      "N_Parkinglot(Basement)              0.525011\n",
      "YearBuilt                           0.501652\n",
      "N_SchoolNearBy(University)         -0.304676\n",
      "N_FacilitiesNearBy(ETC)            -0.370896\n",
      "SubwayDistance                     -0.444936\n",
      "N_FacilitiesNearBy(PublicOffice)   -0.461100\n",
      "Age                                -0.501652\n",
      "Name: LogSalePrice, dtype: float64\n"
     ]
    }
   ],
   "source": [
    "# Debugging: Periksa korelasi\n",
    "numeric_cols = df.select_dtypes(include=['float64', 'int64']).columns\n",
    "corr_matrix = df[numeric_cols].corr()\n",
    "print(\"Korelasi dengan LogSalePrice:\\n\", corr_matrix['LogSalePrice'].sort_values(ascending=False))"
   ]
  },
  {
   "cell_type": "markdown",
   "id": "bb286135",
   "metadata": {},
   "source": [
    "Hasil di atas menampilkan koefisien korelasi **Pearson** antara berbagai fitur properti dengan `LogSalePrice` (logaritma dari harga jual). Koefisien korelasi mengukur kekuatan dan arah hubungan linear antara dua variabel. Nilainya berkisar antara -1 dan +1.\n",
    "\n",
    "Analisis korelasi ini memberikan pemahaman awal yang baik tentang faktor-faktor apa saja yang berkaitan dengan harga properti (yang direpresentasikan sebagai `LogSalePrice`). Kita melihat dampak positif yang jelas dari ukuran properti, ukuran fasilitas, dan kebaruan properti. Sebaliknya, semakin jauh jarak ke subway, semakin tua usia properti, serta semakin banyaknya universitas, kantor publik, dan fasilitas 'lain-lain' di sekitar cenderung berkaitan dengan harga yang lebih rendah.\n",
    "\n",
    "Korelasi negatif, terutama dengan keberadaan universitas dan kantor publik di sekitar, cukup menarik dan memerlukan investigasi lebih lanjut untuk memahami dinamika yang mendasarinya. Sebelum membangun model prediksi, kita juga perlu memeriksa bagaimana fitur-fitur ini berhubungan satu sama lain untuk menghindari masalah seperti multikolinearitas. Ini adalah titik awal yang solid untuk pemilihan fitur dan perumusan hipotesis lebih lanjut.\n"
   ]
  },
  {
   "cell_type": "markdown",
   "id": "29e61aef",
   "metadata": {},
   "source": [
    "## Pembagian Data"
   ]
  },
  {
   "cell_type": "code",
   "execution_count": 16,
   "id": "194d4995",
   "metadata": {},
   "outputs": [],
   "source": [
    "X_train, X_test, y_train, y_test, y_original_train, y_original_test = train_test_split(\n",
    "    X, y, y_original, test_size=0.2, random_state=42)"
   ]
  },
  {
   "cell_type": "markdown",
   "id": "159cf63e",
   "metadata": {},
   "source": [
    "Data dibagi menjadi **training (80%)** dan **testing (20%)**, dengan `X_train`, `y_train`, `y_original_train` untuk pelatihan, dan `X_test`, `y_test`, `y_original_test` untuk evaluasi. \n",
    "\n",
    "`random_state=42` memastikan konsistensi, dan `y_original` mendukung metrik dalam KRW.\n",
    "\n"
   ]
  },
  {
   "cell_type": "markdown",
   "id": "a9461eb5",
   "metadata": {},
   "source": [
    "## Preprocessing"
   ]
  },
  {
   "cell_type": "code",
   "execution_count": 17,
   "id": "614d20ab",
   "metadata": {},
   "outputs": [],
   "source": [
    "numeric_features = ['Size(sqf)', 'Age', 'N_Parkinglot(Basement)', 'N_FacilitiesInApt', 'Size_Facilities']\n",
    "categorical_features = ['SubwayDistance', 'HallwayType']\n",
    "preprocessor = ColumnTransformer(\n",
    "    transformers=[\n",
    "        ('num', StandardScaler(), numeric_features),\n",
    "        ('cat', OneHotEncoder(drop='first', handle_unknown='ignore'), categorical_features)\n",
    "    ])"
   ]
  },
  {
   "cell_type": "markdown",
   "id": "ab3b405b",
   "metadata": {},
   "source": [
    "Preprocessing memastikan model mencerminkan faktor pasar (ukuran, lokasi, tipe koridor), mendukung penetapan harga, investasi, dan kredit. Preprocessing adalah menyiapkan data untuk model ML dengan menormalkan skala numerik, mengencode kategori, meningkatkan akurasi prediksi dengan data yang konsisten dan bebas error.\n",
    "\n",
    "- Fitur numerik (`Size(sqf)`, `Age`, dll.) diskalakan dengan **StandardScaler**.\n",
    "- Fitur kategorikal (`SubwayDistance`, `HallwayType`) diencode dengan **OneHotEncoder**, menghindari multikolinearitas dan menangani kategori tak terduga.\n",
    "- **ColumnTransformer** mengintegrasikan transformasi dalam pipeline."
   ]
  },
  {
   "cell_type": "markdown",
   "id": "f6eb290f",
   "metadata": {},
   "source": [
    "## Pipeline Model\n",
    "\n",
    "Pipeline menyederhanakan workflow, memastikan konsistensi preprocessing dan pelatihan. Random Forest menangkap hubungan non-linier, robust terhadap outlier, dan menyediakan interpretasi. Parameter dipilih untuk akurasi dan reproduktibilitas."
   ]
  },
  {
   "cell_type": "code",
   "execution_count": 18,
   "id": "48a1ea05",
   "metadata": {},
   "outputs": [],
   "source": [
    "model = Pipeline(steps=[\n",
    "    ('preprocessor', preprocessor),\n",
    "    ('regressor', RandomForestRegressor(n_estimators=100, random_state=42))\n",
    "])"
   ]
  },
  {
   "cell_type": "markdown",
   "id": "9b2f3721",
   "metadata": {},
   "source": [
    "- **Pipeline** mengintegrasikan preprocessor (**skalasi dan encoding**) dan **RandomForestRegressor** (100 pohon, random_state=42).\n",
    "- Model siap untuk pelatihan dan prediksi `LogSalePrice`, dengan hasil dalam KRW untuk evaluasi."
   ]
  },
  {
   "cell_type": "code",
   "execution_count": 19,
   "id": "319f4c0f",
   "metadata": {},
   "outputs": [
    {
     "name": "stdout",
     "output_type": "stream",
     "text": [
      "Parameter terbaik: {'regressor__max_depth': 10, 'regressor__min_samples_split': 5, 'regressor__n_estimators': 200}\n"
     ]
    }
   ],
   "source": [
    "param_grid = {\n",
    "    'regressor__n_estimators': [100, 200],\n",
    "    'regressor__max_depth': [10, 20],\n",
    "    'regressor__min_samples_split': [2, 5]\n",
    "}\n",
    "try:\n",
    "    grid_search = GridSearchCV(model, param_grid, cv=5, scoring='neg_mean_absolute_error', n_jobs=1)\n",
    "    grid_search.fit(X_train, y_train)\n",
    "    model = grid_search.best_estimator_\n",
    "    print(\"Parameter terbaik:\", grid_search.best_params_)\n",
    "except Exception as e:\n",
    "    print(\"Error di GridSearchCV:\", e)\n",
    "    print(\"Menggunakan model default tanpa tuning.\")\n",
    "    model.fit(X_train, y_train)"
   ]
  },
  {
   "cell_type": "markdown",
   "id": "1aa5fb14",
   "metadata": {},
   "source": [
    "Hasil atas adalah **Tuning Hyperparameter** menggunakan `GridSearchCV` untuk mengoptimalkan model `RandomForestRegressor` dalam Pipeline.\n",
    "\n",
    "Hasilnya menunjukkan bahwa setelan terbaik yang ditemukan untuk model **\"regressor\"** adalah menggunakan **100 pohon** (n_estimators: 100), dengan kedalaman maksimum setiap pohon **20** (max_depth: 20), dan sebuah cabang pohon akan dipecah jika memiliki minimal **2** sampel (min_samples_split: 2). Kemudian model diperbarui untuk menggunakan setelan terbaik ini. Proses ini membantu meningkatkan performa prediksi model."
   ]
  },
  {
   "cell_type": "markdown",
   "id": "bf0480e7",
   "metadata": {},
   "source": [
    "# Training Model"
   ]
  },
  {
   "cell_type": "code",
   "execution_count": 20,
   "id": "d0a1dbbf",
   "metadata": {},
   "outputs": [
    {
     "data": {
      "text/html": [
       "<style>#sk-container-id-1 {\n",
       "  /* Definition of color scheme common for light and dark mode */\n",
       "  --sklearn-color-text: #000;\n",
       "  --sklearn-color-text-muted: #666;\n",
       "  --sklearn-color-line: gray;\n",
       "  /* Definition of color scheme for unfitted estimators */\n",
       "  --sklearn-color-unfitted-level-0: #fff5e6;\n",
       "  --sklearn-color-unfitted-level-1: #f6e4d2;\n",
       "  --sklearn-color-unfitted-level-2: #ffe0b3;\n",
       "  --sklearn-color-unfitted-level-3: chocolate;\n",
       "  /* Definition of color scheme for fitted estimators */\n",
       "  --sklearn-color-fitted-level-0: #f0f8ff;\n",
       "  --sklearn-color-fitted-level-1: #d4ebff;\n",
       "  --sklearn-color-fitted-level-2: #b3dbfd;\n",
       "  --sklearn-color-fitted-level-3: cornflowerblue;\n",
       "\n",
       "  /* Specific color for light theme */\n",
       "  --sklearn-color-text-on-default-background: var(--sg-text-color, var(--theme-code-foreground, var(--jp-content-font-color1, black)));\n",
       "  --sklearn-color-background: var(--sg-background-color, var(--theme-background, var(--jp-layout-color0, white)));\n",
       "  --sklearn-color-border-box: var(--sg-text-color, var(--theme-code-foreground, var(--jp-content-font-color1, black)));\n",
       "  --sklearn-color-icon: #696969;\n",
       "\n",
       "  @media (prefers-color-scheme: dark) {\n",
       "    /* Redefinition of color scheme for dark theme */\n",
       "    --sklearn-color-text-on-default-background: var(--sg-text-color, var(--theme-code-foreground, var(--jp-content-font-color1, white)));\n",
       "    --sklearn-color-background: var(--sg-background-color, var(--theme-background, var(--jp-layout-color0, #111)));\n",
       "    --sklearn-color-border-box: var(--sg-text-color, var(--theme-code-foreground, var(--jp-content-font-color1, white)));\n",
       "    --sklearn-color-icon: #878787;\n",
       "  }\n",
       "}\n",
       "\n",
       "#sk-container-id-1 {\n",
       "  color: var(--sklearn-color-text);\n",
       "}\n",
       "\n",
       "#sk-container-id-1 pre {\n",
       "  padding: 0;\n",
       "}\n",
       "\n",
       "#sk-container-id-1 input.sk-hidden--visually {\n",
       "  border: 0;\n",
       "  clip: rect(1px 1px 1px 1px);\n",
       "  clip: rect(1px, 1px, 1px, 1px);\n",
       "  height: 1px;\n",
       "  margin: -1px;\n",
       "  overflow: hidden;\n",
       "  padding: 0;\n",
       "  position: absolute;\n",
       "  width: 1px;\n",
       "}\n",
       "\n",
       "#sk-container-id-1 div.sk-dashed-wrapped {\n",
       "  border: 1px dashed var(--sklearn-color-line);\n",
       "  margin: 0 0.4em 0.5em 0.4em;\n",
       "  box-sizing: border-box;\n",
       "  padding-bottom: 0.4em;\n",
       "  background-color: var(--sklearn-color-background);\n",
       "}\n",
       "\n",
       "#sk-container-id-1 div.sk-container {\n",
       "  /* jupyter's `normalize.less` sets `[hidden] { display: none; }`\n",
       "     but bootstrap.min.css set `[hidden] { display: none !important; }`\n",
       "     so we also need the `!important` here to be able to override the\n",
       "     default hidden behavior on the sphinx rendered scikit-learn.org.\n",
       "     See: https://github.com/scikit-learn/scikit-learn/issues/21755 */\n",
       "  display: inline-block !important;\n",
       "  position: relative;\n",
       "}\n",
       "\n",
       "#sk-container-id-1 div.sk-text-repr-fallback {\n",
       "  display: none;\n",
       "}\n",
       "\n",
       "div.sk-parallel-item,\n",
       "div.sk-serial,\n",
       "div.sk-item {\n",
       "  /* draw centered vertical line to link estimators */\n",
       "  background-image: linear-gradient(var(--sklearn-color-text-on-default-background), var(--sklearn-color-text-on-default-background));\n",
       "  background-size: 2px 100%;\n",
       "  background-repeat: no-repeat;\n",
       "  background-position: center center;\n",
       "}\n",
       "\n",
       "/* Parallel-specific style estimator block */\n",
       "\n",
       "#sk-container-id-1 div.sk-parallel-item::after {\n",
       "  content: \"\";\n",
       "  width: 100%;\n",
       "  border-bottom: 2px solid var(--sklearn-color-text-on-default-background);\n",
       "  flex-grow: 1;\n",
       "}\n",
       "\n",
       "#sk-container-id-1 div.sk-parallel {\n",
       "  display: flex;\n",
       "  align-items: stretch;\n",
       "  justify-content: center;\n",
       "  background-color: var(--sklearn-color-background);\n",
       "  position: relative;\n",
       "}\n",
       "\n",
       "#sk-container-id-1 div.sk-parallel-item {\n",
       "  display: flex;\n",
       "  flex-direction: column;\n",
       "}\n",
       "\n",
       "#sk-container-id-1 div.sk-parallel-item:first-child::after {\n",
       "  align-self: flex-end;\n",
       "  width: 50%;\n",
       "}\n",
       "\n",
       "#sk-container-id-1 div.sk-parallel-item:last-child::after {\n",
       "  align-self: flex-start;\n",
       "  width: 50%;\n",
       "}\n",
       "\n",
       "#sk-container-id-1 div.sk-parallel-item:only-child::after {\n",
       "  width: 0;\n",
       "}\n",
       "\n",
       "/* Serial-specific style estimator block */\n",
       "\n",
       "#sk-container-id-1 div.sk-serial {\n",
       "  display: flex;\n",
       "  flex-direction: column;\n",
       "  align-items: center;\n",
       "  background-color: var(--sklearn-color-background);\n",
       "  padding-right: 1em;\n",
       "  padding-left: 1em;\n",
       "}\n",
       "\n",
       "\n",
       "/* Toggleable style: style used for estimator/Pipeline/ColumnTransformer box that is\n",
       "clickable and can be expanded/collapsed.\n",
       "- Pipeline and ColumnTransformer use this feature and define the default style\n",
       "- Estimators will overwrite some part of the style using the `sk-estimator` class\n",
       "*/\n",
       "\n",
       "/* Pipeline and ColumnTransformer style (default) */\n",
       "\n",
       "#sk-container-id-1 div.sk-toggleable {\n",
       "  /* Default theme specific background. It is overwritten whether we have a\n",
       "  specific estimator or a Pipeline/ColumnTransformer */\n",
       "  background-color: var(--sklearn-color-background);\n",
       "}\n",
       "\n",
       "/* Toggleable label */\n",
       "#sk-container-id-1 label.sk-toggleable__label {\n",
       "  cursor: pointer;\n",
       "  display: flex;\n",
       "  width: 100%;\n",
       "  margin-bottom: 0;\n",
       "  padding: 0.5em;\n",
       "  box-sizing: border-box;\n",
       "  text-align: center;\n",
       "  align-items: start;\n",
       "  justify-content: space-between;\n",
       "  gap: 0.5em;\n",
       "}\n",
       "\n",
       "#sk-container-id-1 label.sk-toggleable__label .caption {\n",
       "  font-size: 0.6rem;\n",
       "  font-weight: lighter;\n",
       "  color: var(--sklearn-color-text-muted);\n",
       "}\n",
       "\n",
       "#sk-container-id-1 label.sk-toggleable__label-arrow:before {\n",
       "  /* Arrow on the left of the label */\n",
       "  content: \"▸\";\n",
       "  float: left;\n",
       "  margin-right: 0.25em;\n",
       "  color: var(--sklearn-color-icon);\n",
       "}\n",
       "\n",
       "#sk-container-id-1 label.sk-toggleable__label-arrow:hover:before {\n",
       "  color: var(--sklearn-color-text);\n",
       "}\n",
       "\n",
       "/* Toggleable content - dropdown */\n",
       "\n",
       "#sk-container-id-1 div.sk-toggleable__content {\n",
       "  max-height: 0;\n",
       "  max-width: 0;\n",
       "  overflow: hidden;\n",
       "  text-align: left;\n",
       "  /* unfitted */\n",
       "  background-color: var(--sklearn-color-unfitted-level-0);\n",
       "}\n",
       "\n",
       "#sk-container-id-1 div.sk-toggleable__content.fitted {\n",
       "  /* fitted */\n",
       "  background-color: var(--sklearn-color-fitted-level-0);\n",
       "}\n",
       "\n",
       "#sk-container-id-1 div.sk-toggleable__content pre {\n",
       "  margin: 0.2em;\n",
       "  border-radius: 0.25em;\n",
       "  color: var(--sklearn-color-text);\n",
       "  /* unfitted */\n",
       "  background-color: var(--sklearn-color-unfitted-level-0);\n",
       "}\n",
       "\n",
       "#sk-container-id-1 div.sk-toggleable__content.fitted pre {\n",
       "  /* unfitted */\n",
       "  background-color: var(--sklearn-color-fitted-level-0);\n",
       "}\n",
       "\n",
       "#sk-container-id-1 input.sk-toggleable__control:checked~div.sk-toggleable__content {\n",
       "  /* Expand drop-down */\n",
       "  max-height: 200px;\n",
       "  max-width: 100%;\n",
       "  overflow: auto;\n",
       "}\n",
       "\n",
       "#sk-container-id-1 input.sk-toggleable__control:checked~label.sk-toggleable__label-arrow:before {\n",
       "  content: \"▾\";\n",
       "}\n",
       "\n",
       "/* Pipeline/ColumnTransformer-specific style */\n",
       "\n",
       "#sk-container-id-1 div.sk-label input.sk-toggleable__control:checked~label.sk-toggleable__label {\n",
       "  color: var(--sklearn-color-text);\n",
       "  background-color: var(--sklearn-color-unfitted-level-2);\n",
       "}\n",
       "\n",
       "#sk-container-id-1 div.sk-label.fitted input.sk-toggleable__control:checked~label.sk-toggleable__label {\n",
       "  background-color: var(--sklearn-color-fitted-level-2);\n",
       "}\n",
       "\n",
       "/* Estimator-specific style */\n",
       "\n",
       "/* Colorize estimator box */\n",
       "#sk-container-id-1 div.sk-estimator input.sk-toggleable__control:checked~label.sk-toggleable__label {\n",
       "  /* unfitted */\n",
       "  background-color: var(--sklearn-color-unfitted-level-2);\n",
       "}\n",
       "\n",
       "#sk-container-id-1 div.sk-estimator.fitted input.sk-toggleable__control:checked~label.sk-toggleable__label {\n",
       "  /* fitted */\n",
       "  background-color: var(--sklearn-color-fitted-level-2);\n",
       "}\n",
       "\n",
       "#sk-container-id-1 div.sk-label label.sk-toggleable__label,\n",
       "#sk-container-id-1 div.sk-label label {\n",
       "  /* The background is the default theme color */\n",
       "  color: var(--sklearn-color-text-on-default-background);\n",
       "}\n",
       "\n",
       "/* On hover, darken the color of the background */\n",
       "#sk-container-id-1 div.sk-label:hover label.sk-toggleable__label {\n",
       "  color: var(--sklearn-color-text);\n",
       "  background-color: var(--sklearn-color-unfitted-level-2);\n",
       "}\n",
       "\n",
       "/* Label box, darken color on hover, fitted */\n",
       "#sk-container-id-1 div.sk-label.fitted:hover label.sk-toggleable__label.fitted {\n",
       "  color: var(--sklearn-color-text);\n",
       "  background-color: var(--sklearn-color-fitted-level-2);\n",
       "}\n",
       "\n",
       "/* Estimator label */\n",
       "\n",
       "#sk-container-id-1 div.sk-label label {\n",
       "  font-family: monospace;\n",
       "  font-weight: bold;\n",
       "  display: inline-block;\n",
       "  line-height: 1.2em;\n",
       "}\n",
       "\n",
       "#sk-container-id-1 div.sk-label-container {\n",
       "  text-align: center;\n",
       "}\n",
       "\n",
       "/* Estimator-specific */\n",
       "#sk-container-id-1 div.sk-estimator {\n",
       "  font-family: monospace;\n",
       "  border: 1px dotted var(--sklearn-color-border-box);\n",
       "  border-radius: 0.25em;\n",
       "  box-sizing: border-box;\n",
       "  margin-bottom: 0.5em;\n",
       "  /* unfitted */\n",
       "  background-color: var(--sklearn-color-unfitted-level-0);\n",
       "}\n",
       "\n",
       "#sk-container-id-1 div.sk-estimator.fitted {\n",
       "  /* fitted */\n",
       "  background-color: var(--sklearn-color-fitted-level-0);\n",
       "}\n",
       "\n",
       "/* on hover */\n",
       "#sk-container-id-1 div.sk-estimator:hover {\n",
       "  /* unfitted */\n",
       "  background-color: var(--sklearn-color-unfitted-level-2);\n",
       "}\n",
       "\n",
       "#sk-container-id-1 div.sk-estimator.fitted:hover {\n",
       "  /* fitted */\n",
       "  background-color: var(--sklearn-color-fitted-level-2);\n",
       "}\n",
       "\n",
       "/* Specification for estimator info (e.g. \"i\" and \"?\") */\n",
       "\n",
       "/* Common style for \"i\" and \"?\" */\n",
       "\n",
       ".sk-estimator-doc-link,\n",
       "a:link.sk-estimator-doc-link,\n",
       "a:visited.sk-estimator-doc-link {\n",
       "  float: right;\n",
       "  font-size: smaller;\n",
       "  line-height: 1em;\n",
       "  font-family: monospace;\n",
       "  background-color: var(--sklearn-color-background);\n",
       "  border-radius: 1em;\n",
       "  height: 1em;\n",
       "  width: 1em;\n",
       "  text-decoration: none !important;\n",
       "  margin-left: 0.5em;\n",
       "  text-align: center;\n",
       "  /* unfitted */\n",
       "  border: var(--sklearn-color-unfitted-level-1) 1pt solid;\n",
       "  color: var(--sklearn-color-unfitted-level-1);\n",
       "}\n",
       "\n",
       ".sk-estimator-doc-link.fitted,\n",
       "a:link.sk-estimator-doc-link.fitted,\n",
       "a:visited.sk-estimator-doc-link.fitted {\n",
       "  /* fitted */\n",
       "  border: var(--sklearn-color-fitted-level-1) 1pt solid;\n",
       "  color: var(--sklearn-color-fitted-level-1);\n",
       "}\n",
       "\n",
       "/* On hover */\n",
       "div.sk-estimator:hover .sk-estimator-doc-link:hover,\n",
       ".sk-estimator-doc-link:hover,\n",
       "div.sk-label-container:hover .sk-estimator-doc-link:hover,\n",
       ".sk-estimator-doc-link:hover {\n",
       "  /* unfitted */\n",
       "  background-color: var(--sklearn-color-unfitted-level-3);\n",
       "  color: var(--sklearn-color-background);\n",
       "  text-decoration: none;\n",
       "}\n",
       "\n",
       "div.sk-estimator.fitted:hover .sk-estimator-doc-link.fitted:hover,\n",
       ".sk-estimator-doc-link.fitted:hover,\n",
       "div.sk-label-container:hover .sk-estimator-doc-link.fitted:hover,\n",
       ".sk-estimator-doc-link.fitted:hover {\n",
       "  /* fitted */\n",
       "  background-color: var(--sklearn-color-fitted-level-3);\n",
       "  color: var(--sklearn-color-background);\n",
       "  text-decoration: none;\n",
       "}\n",
       "\n",
       "/* Span, style for the box shown on hovering the info icon */\n",
       ".sk-estimator-doc-link span {\n",
       "  display: none;\n",
       "  z-index: 9999;\n",
       "  position: relative;\n",
       "  font-weight: normal;\n",
       "  right: .2ex;\n",
       "  padding: .5ex;\n",
       "  margin: .5ex;\n",
       "  width: min-content;\n",
       "  min-width: 20ex;\n",
       "  max-width: 50ex;\n",
       "  color: var(--sklearn-color-text);\n",
       "  box-shadow: 2pt 2pt 4pt #999;\n",
       "  /* unfitted */\n",
       "  background: var(--sklearn-color-unfitted-level-0);\n",
       "  border: .5pt solid var(--sklearn-color-unfitted-level-3);\n",
       "}\n",
       "\n",
       ".sk-estimator-doc-link.fitted span {\n",
       "  /* fitted */\n",
       "  background: var(--sklearn-color-fitted-level-0);\n",
       "  border: var(--sklearn-color-fitted-level-3);\n",
       "}\n",
       "\n",
       ".sk-estimator-doc-link:hover span {\n",
       "  display: block;\n",
       "}\n",
       "\n",
       "/* \"?\"-specific style due to the `<a>` HTML tag */\n",
       "\n",
       "#sk-container-id-1 a.estimator_doc_link {\n",
       "  float: right;\n",
       "  font-size: 1rem;\n",
       "  line-height: 1em;\n",
       "  font-family: monospace;\n",
       "  background-color: var(--sklearn-color-background);\n",
       "  border-radius: 1rem;\n",
       "  height: 1rem;\n",
       "  width: 1rem;\n",
       "  text-decoration: none;\n",
       "  /* unfitted */\n",
       "  color: var(--sklearn-color-unfitted-level-1);\n",
       "  border: var(--sklearn-color-unfitted-level-1) 1pt solid;\n",
       "}\n",
       "\n",
       "#sk-container-id-1 a.estimator_doc_link.fitted {\n",
       "  /* fitted */\n",
       "  border: var(--sklearn-color-fitted-level-1) 1pt solid;\n",
       "  color: var(--sklearn-color-fitted-level-1);\n",
       "}\n",
       "\n",
       "/* On hover */\n",
       "#sk-container-id-1 a.estimator_doc_link:hover {\n",
       "  /* unfitted */\n",
       "  background-color: var(--sklearn-color-unfitted-level-3);\n",
       "  color: var(--sklearn-color-background);\n",
       "  text-decoration: none;\n",
       "}\n",
       "\n",
       "#sk-container-id-1 a.estimator_doc_link.fitted:hover {\n",
       "  /* fitted */\n",
       "  background-color: var(--sklearn-color-fitted-level-3);\n",
       "}\n",
       "</style><div id=\"sk-container-id-1\" class=\"sk-top-container\"><div class=\"sk-text-repr-fallback\"><pre>Pipeline(steps=[(&#x27;preprocessor&#x27;,\n",
       "                 ColumnTransformer(transformers=[(&#x27;num&#x27;, StandardScaler(),\n",
       "                                                  [&#x27;Size(sqf)&#x27;, &#x27;Age&#x27;,\n",
       "                                                   &#x27;N_Parkinglot(Basement)&#x27;,\n",
       "                                                   &#x27;N_FacilitiesInApt&#x27;,\n",
       "                                                   &#x27;Size_Facilities&#x27;]),\n",
       "                                                 (&#x27;cat&#x27;,\n",
       "                                                  OneHotEncoder(drop=&#x27;first&#x27;,\n",
       "                                                                handle_unknown=&#x27;ignore&#x27;),\n",
       "                                                  [&#x27;SubwayDistance&#x27;,\n",
       "                                                   &#x27;HallwayType&#x27;])])),\n",
       "                (&#x27;regressor&#x27;,\n",
       "                 RandomForestRegressor(max_depth=10, min_samples_split=5,\n",
       "                                       n_estimators=200, random_state=42))])</pre><b>In a Jupyter environment, please rerun this cell to show the HTML representation or trust the notebook. <br />On GitHub, the HTML representation is unable to render, please try loading this page with nbviewer.org.</b></div><div class=\"sk-container\" hidden><div class=\"sk-item sk-dashed-wrapped\"><div class=\"sk-label-container\"><div class=\"sk-label fitted sk-toggleable\"><input class=\"sk-toggleable__control sk-hidden--visually\" id=\"sk-estimator-id-1\" type=\"checkbox\" ><label for=\"sk-estimator-id-1\" class=\"sk-toggleable__label fitted sk-toggleable__label-arrow\"><div><div>Pipeline</div></div><div><span class=\"sk-estimator-doc-link fitted\">i<span>Fitted</span></span></div></label><div class=\"sk-toggleable__content fitted\"><pre>Pipeline(steps=[(&#x27;preprocessor&#x27;,\n",
       "                 ColumnTransformer(transformers=[(&#x27;num&#x27;, StandardScaler(),\n",
       "                                                  [&#x27;Size(sqf)&#x27;, &#x27;Age&#x27;,\n",
       "                                                   &#x27;N_Parkinglot(Basement)&#x27;,\n",
       "                                                   &#x27;N_FacilitiesInApt&#x27;,\n",
       "                                                   &#x27;Size_Facilities&#x27;]),\n",
       "                                                 (&#x27;cat&#x27;,\n",
       "                                                  OneHotEncoder(drop=&#x27;first&#x27;,\n",
       "                                                                handle_unknown=&#x27;ignore&#x27;),\n",
       "                                                  [&#x27;SubwayDistance&#x27;,\n",
       "                                                   &#x27;HallwayType&#x27;])])),\n",
       "                (&#x27;regressor&#x27;,\n",
       "                 RandomForestRegressor(max_depth=10, min_samples_split=5,\n",
       "                                       n_estimators=200, random_state=42))])</pre></div> </div></div><div class=\"sk-serial\"><div class=\"sk-item sk-dashed-wrapped\"><div class=\"sk-label-container\"><div class=\"sk-label fitted sk-toggleable\"><input class=\"sk-toggleable__control sk-hidden--visually\" id=\"sk-estimator-id-2\" type=\"checkbox\" ><label for=\"sk-estimator-id-2\" class=\"sk-toggleable__label fitted sk-toggleable__label-arrow\"><div><div>preprocessor: ColumnTransformer</div></div><div><a class=\"sk-estimator-doc-link fitted\" rel=\"noreferrer\" target=\"_blank\" href=\"https://scikit-learn.org/1.6/modules/generated/sklearn.compose.ColumnTransformer.html\">?<span>Documentation for preprocessor: ColumnTransformer</span></a></div></label><div class=\"sk-toggleable__content fitted\"><pre>ColumnTransformer(transformers=[(&#x27;num&#x27;, StandardScaler(),\n",
       "                                 [&#x27;Size(sqf)&#x27;, &#x27;Age&#x27;, &#x27;N_Parkinglot(Basement)&#x27;,\n",
       "                                  &#x27;N_FacilitiesInApt&#x27;, &#x27;Size_Facilities&#x27;]),\n",
       "                                (&#x27;cat&#x27;,\n",
       "                                 OneHotEncoder(drop=&#x27;first&#x27;,\n",
       "                                               handle_unknown=&#x27;ignore&#x27;),\n",
       "                                 [&#x27;SubwayDistance&#x27;, &#x27;HallwayType&#x27;])])</pre></div> </div></div><div class=\"sk-parallel\"><div class=\"sk-parallel-item\"><div class=\"sk-item\"><div class=\"sk-label-container\"><div class=\"sk-label fitted sk-toggleable\"><input class=\"sk-toggleable__control sk-hidden--visually\" id=\"sk-estimator-id-3\" type=\"checkbox\" ><label for=\"sk-estimator-id-3\" class=\"sk-toggleable__label fitted sk-toggleable__label-arrow\"><div><div>num</div></div></label><div class=\"sk-toggleable__content fitted\"><pre>[&#x27;Size(sqf)&#x27;, &#x27;Age&#x27;, &#x27;N_Parkinglot(Basement)&#x27;, &#x27;N_FacilitiesInApt&#x27;, &#x27;Size_Facilities&#x27;]</pre></div> </div></div><div class=\"sk-serial\"><div class=\"sk-item\"><div class=\"sk-estimator fitted sk-toggleable\"><input class=\"sk-toggleable__control sk-hidden--visually\" id=\"sk-estimator-id-4\" type=\"checkbox\" ><label for=\"sk-estimator-id-4\" class=\"sk-toggleable__label fitted sk-toggleable__label-arrow\"><div><div>StandardScaler</div></div><div><a class=\"sk-estimator-doc-link fitted\" rel=\"noreferrer\" target=\"_blank\" href=\"https://scikit-learn.org/1.6/modules/generated/sklearn.preprocessing.StandardScaler.html\">?<span>Documentation for StandardScaler</span></a></div></label><div class=\"sk-toggleable__content fitted\"><pre>StandardScaler()</pre></div> </div></div></div></div></div><div class=\"sk-parallel-item\"><div class=\"sk-item\"><div class=\"sk-label-container\"><div class=\"sk-label fitted sk-toggleable\"><input class=\"sk-toggleable__control sk-hidden--visually\" id=\"sk-estimator-id-5\" type=\"checkbox\" ><label for=\"sk-estimator-id-5\" class=\"sk-toggleable__label fitted sk-toggleable__label-arrow\"><div><div>cat</div></div></label><div class=\"sk-toggleable__content fitted\"><pre>[&#x27;SubwayDistance&#x27;, &#x27;HallwayType&#x27;]</pre></div> </div></div><div class=\"sk-serial\"><div class=\"sk-item\"><div class=\"sk-estimator fitted sk-toggleable\"><input class=\"sk-toggleable__control sk-hidden--visually\" id=\"sk-estimator-id-6\" type=\"checkbox\" ><label for=\"sk-estimator-id-6\" class=\"sk-toggleable__label fitted sk-toggleable__label-arrow\"><div><div>OneHotEncoder</div></div><div><a class=\"sk-estimator-doc-link fitted\" rel=\"noreferrer\" target=\"_blank\" href=\"https://scikit-learn.org/1.6/modules/generated/sklearn.preprocessing.OneHotEncoder.html\">?<span>Documentation for OneHotEncoder</span></a></div></label><div class=\"sk-toggleable__content fitted\"><pre>OneHotEncoder(drop=&#x27;first&#x27;, handle_unknown=&#x27;ignore&#x27;)</pre></div> </div></div></div></div></div></div></div><div class=\"sk-item\"><div class=\"sk-estimator fitted sk-toggleable\"><input class=\"sk-toggleable__control sk-hidden--visually\" id=\"sk-estimator-id-7\" type=\"checkbox\" ><label for=\"sk-estimator-id-7\" class=\"sk-toggleable__label fitted sk-toggleable__label-arrow\"><div><div>RandomForestRegressor</div></div><div><a class=\"sk-estimator-doc-link fitted\" rel=\"noreferrer\" target=\"_blank\" href=\"https://scikit-learn.org/1.6/modules/generated/sklearn.ensemble.RandomForestRegressor.html\">?<span>Documentation for RandomForestRegressor</span></a></div></label><div class=\"sk-toggleable__content fitted\"><pre>RandomForestRegressor(max_depth=10, min_samples_split=5, n_estimators=200,\n",
       "                      random_state=42)</pre></div> </div></div></div></div></div></div>"
      ],
      "text/plain": [
       "Pipeline(steps=[('preprocessor',\n",
       "                 ColumnTransformer(transformers=[('num', StandardScaler(),\n",
       "                                                  ['Size(sqf)', 'Age',\n",
       "                                                   'N_Parkinglot(Basement)',\n",
       "                                                   'N_FacilitiesInApt',\n",
       "                                                   'Size_Facilities']),\n",
       "                                                 ('cat',\n",
       "                                                  OneHotEncoder(drop='first',\n",
       "                                                                handle_unknown='ignore'),\n",
       "                                                  ['SubwayDistance',\n",
       "                                                   'HallwayType'])])),\n",
       "                ('regressor',\n",
       "                 RandomForestRegressor(max_depth=10, min_samples_split=5,\n",
       "                                       n_estimators=200, random_state=42))])"
      ]
     },
     "execution_count": 20,
     "metadata": {},
     "output_type": "execute_result"
    }
   ],
   "source": [
    "model.fit(X_train, y_train)"
   ]
  },
  {
   "cell_type": "markdown",
   "id": "da6761a8",
   "metadata": {},
   "source": [
    "Berikut adalah visualisasi **Pipeline** untuk membantu memahami dengan jelas langkah-langkah otomatis yang terjadi pada data Anda dari awal (**data mentah**) hingga akhir (**model yang dilatih**). Ini adalah untuk memastikan konsistensi dalam pemrosesan data antara tahap pelatihan dan tahap prediksi."
   ]
  },
  {
   "cell_type": "markdown",
   "id": "50e1214b",
   "metadata": {},
   "source": [
    "## Evaluasi Model"
   ]
  },
  {
   "cell_type": "code",
   "execution_count": 21,
   "id": "ecf5ca5a",
   "metadata": {},
   "outputs": [],
   "source": [
    "y_pred_log = model.predict(X_test)\n",
    "y_pred = np.expm1(y_pred_log)"
   ]
  },
  {
   "cell_type": "markdown",
   "id": "b7ee48d0",
   "metadata": {},
   "source": [
    "Evaluasi Model, khususnya bagian prediksi dataset ini melakukan dua hal:\n",
    "1. Membuat Prediksi (**dalam Skala Log**): Model Anda (**model**) digunakan untuk memprediksi harga rumah (`LogSalePrice`) berdasarkan data uji (`X_test`). Hasil prediksi ini (masih dalam bentuk logaritma) disimpan sebagai `y_pred_log`.\n",
    "2. Mengembalikan Prediksi ke Skala Asli: Karena prediksi `y_pred_log` masih dalam skala logaritma (yang sulit diinterpretasikan secara langsung sebagai harga), fungsi **np.expm1()** digunakan untuk mengubahnya kembali ke skala harga asli. Hasilnya disimpan sebagai `y_pred`.\n",
    "\n",
    "Setelah langkah ini, variabel `y_pred` akan berisi prediksi harga jual properti dalam unit mata uang aslinya. Anda kemudian dapat membandingkan `y_pred` ini dengan nilai harga jual sebenarnya dari data uji (`y_test`) untuk mengevaluasi seberapa baik performa model Anda menggunakan berbagai metrik evaluasi (misalnya, Mean Absolute Error (MAE), Root Mean Squared Error (RMSE), R-squared)."
   ]
  },
  {
   "cell_type": "markdown",
   "id": "f6a758ab",
   "metadata": {},
   "source": [
    "## Metrik Evaluasi : MAPE\n",
    "\n",
    "MAPE memberikan persentase kesalahan relatif, intuitif untuk stakeholder. Karena hasilnya berupa persentase, ini lebih mudah dipahami oleh orang yang mungkin tidak memiliki latar belakang teknis atau statistik yang mendalam (stakeholder). **MAPE** memberitahu secara rata-rata, seberapa besar persentase kesalahan prediksi model dibandingkan dengan nilai sebenarnya."
   ]
  },
  {
   "cell_type": "code",
   "execution_count": 22,
   "id": "138cde87",
   "metadata": {},
   "outputs": [
    {
     "name": "stdout",
     "output_type": "stream",
     "text": [
      "MAPE: 0.1904 (19.04%)\n"
     ]
    }
   ],
   "source": [
    "mape = mean_absolute_percentage_error(y_original_test, y_pred)\n",
    "print(f\"MAPE: {mape:.4f} ({mape*100:.2f}%)\")"
   ]
  },
  {
   "cell_type": "markdown",
   "id": "5926a059",
   "metadata": {},
   "source": [
    "Nilai **MAPE** sebesar **19.04%** berarti bahwa, secara rata-rata, prediksi model meleset sekitar **19.04%** dari nilai harga jual sebenarnya.\n",
    "\n",
    "Contoh:\n",
    "\n",
    "Jika model memprediksi harga sebuah rumah. Jika harga sebenarnya rumah itu adalah **1.000.000.000**, maka dengan **MAPE** **19.04%**, prediksi model Anda bisa jadi meleset(bisa lebih tinggi atau lebih rendah). Ini adalah rata-rata persentase kesalahan untuk semua prediksi pada dataset uji.\n",
    "\n",
    "Note:\n",
    "- Jika ada nilai aktual (`y_original_test`) yang sangat kecil atau nol, **MAPE** bisa menjadi sangat besar atau tidak terdefinisi (karena ada pembagian dengan nilai aktual dalam perhitungannya). Oleh karena itu, penting untuk memeriksa distribusi data Anda.\n",
    "- Apakah **19.04%** itu Baik atau Buruk? Ini sangat tergantung pada konteks masalah, industri, dan ekspektasi stakeholder. Untuk beberapa kasus, ini mungkin sudah cukup baik, sementara untuk kasus lain mungkin dianggap terlalu tinggi. Tidak ada angka absolut yang mendefinisikan \"baik\" atau \"buruk\" tanpa konteks.\n",
    "\n",
    "Secara umum, tujuan Anda adalah membuat nilai **MAPE sekecil mungkin**, yang berarti model Anda **semakin akurat**."
   ]
  },
  {
   "cell_type": "code",
   "execution_count": 23,
   "id": "9309fb2d",
   "metadata": {},
   "outputs": [
    {
     "name": "stdout",
     "output_type": "stream",
     "text": [
      "Threshold MAPE Accuracy (MAPE <10%): 0.3290 (32.90%)\n"
     ]
    }
   ],
   "source": [
    "# Metrik baru: Threshold MAPE Accuracy\n",
    "# Alasan: Mengukur persentase prediksi dengan kesalahan relatif <10%\n",
    "threshold_mape_accuracy = np.mean(np.abs((y_original_test - y_pred) / y_original_test) < 0.1)\n",
    "print(f\"Threshold MAPE Accuracy (MAPE <10%): {threshold_mape_accuracy:.4f} ({threshold_mape_accuracy*100:.2f}%)\")"
   ]
  },
  {
   "cell_type": "markdown",
   "id": "f9736cae",
   "metadata": {},
   "source": [
    "`Threshold_accuracy` mengevaluasi seberapa baik model prediksi, yakni mengukur seberapa banyak hasil prediksi yang akurat dalam batas toleransi tertentu (`MAPE` < 10%)\n",
    "1. Relevansi bisnis langsung:\n",
    "- MAPE standar memberikan rata-rata kesalahan persentase. Meskipun berguna, ia tidak secara langsung memberi tahu berapa banyak prediksi yang \"dapat diterima\" oleh bisnis.\n",
    "- Dengan \"Threshold MAPE Accuracy\", stakeholder bisnis dapat menetapkan ambang batas kesalahan yang dapat mereka toleransi (misalnya, 10%, 5%, atau 15%). Metrik ini kemudian secara langsung mengukur seberapa sering model mencapai target tersebut.\n",
    "- Misalnya, jika sebuah platform e-commerce menggunakan model prediksi harga, mereka mungkin lebih tertarik pada persentase produk yang harganya diprediksi dengan akurasi tinggi (misalnya, kesalahan < 5%) daripada hanya mengetahui rata-rata kesalahan secara keseluruhan.\n",
    "2. Komunikasi yang Lebih Mudah:\n",
    "- Menyatakan bahwa \"32.90% prediksi kami memiliki kesalahan kurang dari 10%\" seringkali lebih mudah dipahami oleh audiens non-teknis dibandingkan mengatakan \"MAPE kami adalah 15%\". Ini memberikan gambaran yang lebih konkret tentang keandalan model dalam skenario tertentu.\n",
    "3. Fokus pada Kinerja \"Cukup Baik\":\n",
    "- Dalam beberapa kasus, memiliki banyak prediksi yang \"cukup baik\" mungkin lebih berharga daripada memiliki beberapa prediksi yang sangat akurat tetapi juga beberapa prediksi dengan kesalahan yang sangat besar (yang bisa mendistorsi MAPE rata-rata). Metrik ini membantu menyoroti aspek tersebut.\n",
    "\n",
    "Potensi Kelemahan atau Pertimbangan:\n",
    "- Pemilihan Ambang Batas: Pemilihan ambang batas bisa bersifat subjektif dan harus didiskusikan dengan stakeholder bisnis.\n",
    "- Tidak Memberikan Gambaran Kesalahan di Luar Ambang Batas: Metrik ini hanya memberi tahu proporsi prediksi yang di dalam ambang batas. Ia tidak memberi tahu seberapa besar kesalahan untuk prediksi yang di luar ambang batas tersebut. Oleh karena itu, penting untuk tetap melihat metrik lain seperti MAPE atau RMSE."
   ]
  },
  {
   "cell_type": "markdown",
   "id": "811d8c28",
   "metadata": {},
   "source": [
    "## Visualisasi Hasil"
   ]
  },
  {
   "cell_type": "code",
   "execution_count": 24,
   "id": "a4a5f66c",
   "metadata": {},
   "outputs": [
    {
     "data": {
      "image/png": "[encoded data removed]",
      "text/plain": [
       "<Figure size 1000x600 with 1 Axes>"
      ]
     },
     "metadata": {},
     "output_type": "display_data"
    }
   ],
   "source": [
    "plt.figure(figsize=(10, 6))\n",
    "plt.scatter(y_original_test, y_pred, alpha=0.5)\n",
    "plt.plot([y_original_test.min(), y_original_test.max()], [y_original_test.min(), y_original_test.max()], 'r--')\n",
    "plt.xlabel('SalePrice Aktual (KRW)')\n",
    "plt.ylabel('SalePrice Prediksi (KRW)')\n",
    "plt.title('Prediksi vs Aktual (Skala Asli)')\n",
    "plt.savefig('prediction_vs_actual_mape_mae.png')"
   ]
  },
  {
   "cell_type": "markdown",
   "id": "48829c56",
   "metadata": {},
   "source": [
    "Grafik ini menunjukkan seberapa akurat model kita dalam memprediksi harga apartemen. Setiap titik biru adalah satu apartemen. Posisi titik secara horizontal menunjukkan harga asli apartemen tersebut, dan posisi vertikalnya menunjukkan harga yang diprediksi oleh model kita. Garis merah putus-putus adalah \"garis ideal\" di mana prediksi model sama persis dengan harga aslinya. Semakin banyak titik biru yang berkumpul dekat dengan garis merah ini, berarti prediksi model kita semakin akurat. \n",
    "\n",
    "Dari gambar ini, kita bisa lihat bahwa sebagian besar prediksi harga dari model kita (titik-titik biru) cukup mendekati harga sebenarnya (garis merah), yang menandakan model ini sudah cukup baik dalam memperkirakan harga apartemen. Meskipun ada beberapa prediksi yang sedikit meleset, secara umum model ini menunjukkan kemampuan yang menjanjikan."
   ]
  },
  {
   "cell_type": "markdown",
   "id": "87ea8b91",
   "metadata": {},
   "source": [
    "## Feature Importance"
   ]
  },
  {
   "cell_type": "code",
   "execution_count": 25,
   "id": "63cd4dd3",
   "metadata": {},
   "outputs": [
    {
     "data": {
      "image/png": "[encoded data removed]",
      "text/plain": [
       "<Figure size 1000x600 with 1 Axes>"
      ]
     },
     "metadata": {},
     "output_type": "display_data"
    }
   ],
   "source": [
    "feature_names = numeric_features + list(model.named_steps['preprocessor'].transformers_[1][1].get_feature_names_out())\n",
    "importances = model.named_steps['regressor'].feature_importances_\n",
    "feature_importance = pd.DataFrame({'Feature': feature_names, 'Importance': importances}).sort_values('Importance', ascending=False)\n",
    "plt.figure(figsize=(10, 6))\n",
    "sns.barplot(x='Importance', y='Feature', data=feature_importance)\n",
    "plt.title('Feature Importance')\n",
    "plt.savefig('feature_importance_mape_mae.png')"
   ]
  },
  {
   "cell_type": "markdown",
   "id": "e89b5931",
   "metadata": {},
   "source": [
    "Grafik ini menunjukkan faktor-faktor apa saja dari sebuah apartemen yang paling berpengaruh dalam menentukan prediksi harga oleh model kita. Setiap batang mewakili satu faktor, misalnya \"Ukuran Apartemen (`Size(sqf`))\", \"Usia Bangunan (`Age`)\", atau \"Jumlah Tempat Parkir di Basement\". Semakin panjang batangnya ke kanan, berarti faktor tersebut semakin penting atau memiliki dampak yang lebih besar terhadap harga prediksi. \n",
    "\n",
    "Jadi, dari gambar ini, kita bisa lihat bahwa \"`Size_Facilities`\" (kemungkinan gabungan ukuran dan fasilitas) adalah yang paling utama, diikuti oleh ukuran apartemen itu sendiri, dan kemudian usianya. Informasi ini membantu kita memahami apa saja yang paling dipertimbangkan oleh model dalam menilai harga, yang seringkali sejalan dengan apa yang dianggap penting oleh pasar."
   ]
  },
  {
   "cell_type": "markdown",
   "id": "3e9daec6",
   "metadata": {},
   "source": [
    "## Conclusion & Recommendation"
   ]
  },
  {
   "cell_type": "markdown",
   "id": "5280b103",
   "metadata": {},
   "source": [
    "Berdasarkan hasil evaluasi model kita dengan **Mean Absolute Percentage Error (MAPE)** sebesar **19.04%**, kita dapat menyimpulkan bahwa jika model ini digunakan untuk memprediksi harga apartemen di Daegu, Korea Selatan, maka prediksi harga rata-rata akan meleset sebesar **19.04% dari harga sebenarnya**. Dengan kata lain, untuk apartemen dengan harga aktual 200,000 KRW, prediksi model akan berada dalam rentang 161,920–238,080 KRW (±38,080 KRW). Namun, karena MAPE saat ini melebihi target bisnis <10%, model ini belum optimal untuk digunakan dalam pengambilan keputusan harga yang akurat.\n",
    "\n",
    "Jika kita menggunakan **Threshold MAPE Accuracy** (persentase prediksi dengan kesalahan relatif <10%), hasilnya **32.90%** , maka model kita dapat mengidentifikasi 32.90% dari total apartemen dengan prediksi harga yang akurat (kesalahan <10%). Artinya, 32.90% prediksi memiliki harga yang cukup dekat dengan harga pasar (±10%), sedangkan 67.10% prediksi lainnya memiliki kesalahan >10%, yang dapat menyebabkan harga tidak kompetitif atau kerugian finansial.\n",
    "\n",
    "**Contoh Perhitungan Biaya Bisnis:**\n",
    "\n",
    "Misalkan biaya untuk mengevaluasi dan memasarkan satu apartemen (termasuk appraisal, pemasaran, dan negosiasi) adalah 50,000 KRW per apartemen (estimasi berdasarkan biaya pemasaran properti, sumber: contoh biaya pemasaran properti). Asumsikan dalam satu periode, terdapat 200 apartemen yang perlu diprediksi harganya, dengan 100 apartemen memiliki harga pasar yang benar-benar kompetitif (diterima pembeli) dan 100 apartemen tidak kompetitif (ditolak karena harga salah).\n",
    "\n",
    "\n",
    "**Tanpa Model (Semua Apartemen Dievaluasi dan Dipasarkan):**\n",
    "- Total Biaya: 200 × 50,000 KRW = 10,000,000 KRW.\n",
    "- Biaya yang Terbuang: 100 × 50,000 KRW = 5,000,000 KRW (untuk 100 apartemen tidak kompetitif yang ditolak pembeli).\n",
    "- Penghematan: - 5,000,0000 KRW.\n",
    "\n",
    "**Dengan Model (Hanya Apartemen dengan Prediksi Akurat <10% yang Dievaluasi):**\n",
    "- Berdasarkan Threshold MAPE Accuracy 32.90%: Prediksi akurat (<10%): 32.90% × 200 = 65.8 apartemen. \n",
    "- Dari 200 apartemen kompetitif, model mengidentifikasi 32.90% × 200 = 65.8 apartemen kompetitif (berdasarkan recall terhadap apartemen kompetitif).\n",
    "- Dari 200 apartemen tidak kompetitif, model salah mengidentifikasi 67.10% × 200 = 134.2 apartemen tidak kompetitif sebagai akurat (karena akurasi 32.90%, sisanya 67.10% adalah kesalahan).\n",
    "- Total Apartemen Kompetitif yang Didapatkan: 65.8 apartemen (32.90% dari 200 apartemen kompetitif).\n",
    "- Total Apartemen Kompetitif yang Tidak Didapatkan: 200 − 65.8 = 134.2 apartemen (karena model tidak mengidentifikasi semua apartemen kompetitif).\n",
    "- Penghematan: 134.2 × 50,000 KRW = 6,710,000 KRW.\n",
    "\n",
    "**Kesimpulan dari Perhitungan:**\n",
    "\n",
    "Dengan menggunakan model, total biaya evaluasi dan pemasaran berkurang dari 10,000,000 KRW menjadi 3,290,000 KRW, menghasilkan penghematan 6,710,000 KRW (67.1% dari biaya tanpa model). Namun, model hanya mengidentifikasi 65.8 dari 200 apartemen kompetitif, sehingga kehilangan 134,2 apartemen potensial. Penghematan ini signifikan, tetapi MAPE 19.04% dan Threshold MAPE Accuracy 32.90% menunjukkan bahwa model perlu dioptimasi untuk meningkatkan jumlah apartemen kompetitif yang diidentifikasi (mendekati 100%) dan mengurangi kesalahan prediksi."
   ]
  },
  {
   "cell_type": "markdown",
   "id": "4cbbb299",
   "metadata": {},
   "source": [
    "## Recommendation"
   ]
  },
  {
   "cell_type": "markdown",
   "id": "8d6a24df",
   "metadata": {},
   "source": [
    "1. **Meningkatkan Kualitas Data:**\n",
    "- mendorong pengumpulan data yang lengkap untuk semua kolom, seperti `TimeToSubway` dan `HallwayType`. Jika data tidak tersedia (misalnya, tidak ada stasiun subway terdekat), isi dengan nilai default seperti “`unknown`” atau “`no_subway`” untuk konsistensi.\n",
    "- Pastikan data numerik seperti `Size(sqf)` dan `N_FacilitiesInApt` tidak memiliki nilai hilang atau anomali (misalnya, ukuran negatif).\n",
    "2. Menambahkan Fitur Baru:\n",
    "- Tambahkan kolom seperti jarak aktual ke stasiun subway (dalam kilometer), jumlah fasilitas publik (sekolah, rumah sakit) dalam radius tertentu, atau indeks harga properti di wilayah tertentu.\n",
    "- Buat fitur interaksi tambahan, misalnya, `Age_Size` = `Age` * `Size(sqf)`, untuk menangkap efek gabungan usia dan ukuran apartemen terhadap harga.\n",
    "3. Meningkatkan Model:\n",
    "- Coba algoritma ML lain seperti XGBoost atau Gradient Boosting, yang sering lebih akurat untuk prediksi harga properti."
   ]
  }
 ],
 "metadata": {
  "kernelspec": {
   "display_name": "Python 3",
   "language": "python",
   "name": "python3"
  },
  "language_info": {
   "codemirror_mode": {
    "name": "ipython",
    "version": 3
   },
   "file_extension": ".py",
   "mimetype": "text/x-python",
   "name": "python",
   "nbconvert_exporter": "python",
   "pygments_lexer": "ipython3",
   "version": "3.13.1"
  }
 },
 "nbformat": 4,
 "nbformat_minor": 5
}
